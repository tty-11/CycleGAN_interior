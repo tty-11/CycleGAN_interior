{
 "cells": [
  {
   "cell_type": "code",
   "execution_count": null,
   "metadata": {},
   "outputs": [],
   "source": [
    "#学習\n",
    "!python train.py --dataroot ./datasets/nordic2LineDrawing --n_epochs 250 --n_epochs_decay 150 --name nordic2LineDrawing_cyclegan --model cycle_gan --gpu_ids 0"
   ]
  },
  {
   "cell_type": "markdown",
   "metadata": {},
   "source": [
    "●学習に関して\n",
    "dataroot：CycleGANで学習するデータセット(nordic2LineDrawingの部分を適宜変更)\n",
    "n_epochs：初期学習率(0.0002)で学習するエポック数\n",
    "n_epochs_decay：学習率を下げるエポック数(n_epochsに加算されます)\n",
    "(n_epochs, n_epochs_decayはデフォルトだと100ずつ設定されており、合計200epoch分学習される)\n",
    "name：モデルを保存するための、./checkpointsの中でのディレクトリ名（nordic2LineDrawing_cycleganの部分を適宜変更）\n",
    "model：モデルの学習方法の指定\n",
    "gpu_ids：使用するGPUのID\n",
    "no_dropout：デフォルトでno_dropoutとなります。過学習を防ぐドロップアウトを使用しないフラグ。テスト実行時も、モデル学習の設定に合わせる必要があります。\n",
    "\n",
    "学習画像は、デフォルトで256x256の正方形に変換されます。\n",
    "学習画像のサイズとアスペクト比を保持したい場合は、下記の引数で設定。\n",
    "\n",
    "preprocess：前処理の設定です。デフォルトでは、256x256の正方形に変換されます。また、いくつかのフラグがありますが、noneにすると、変換画像のサイズとアスペクト比を保持されます。\n",
    "ただし、「preprocess none」では、GPUの負荷も重くなり、メモリーオーバーになる可能性が高いです。\n",
    "\n",
    "学習を行うと、checkpoints/{name}の中に5epochsごとモデルが保存されます。\n",
    "Aのデータ -> Bのデータに変換するモデルは＊＊＊_G_A.pthで，Bのデータ -> Aのデータに変換するのモデルは＊＊＊_G_B.pthで保存されます。\n",
    "\n",
    "●学習途中からの再開方法\n",
    "学習を途中から始める場合、下記のコードを参考にしてください。\n",
    "下記に引数の意味を示します。\n",
    "\n",
    "epoch_count：途中から学習を開始するepoch数\n",
    "continue_train：途中から学習を始める場合のフラグ\n",
    "\n",
    "例）\n",
    "!python train.py --dataroot ./datasets/nordic2LineDrawing --n_epochs 250 --n_epochs_decay 150 --name nordic2LineDrawing_cyclegan --model cycle_gan --gpu_ids 0 --continue_train --epoch_count 301"
   ]
  },
  {
   "cell_type": "code",
   "execution_count": null,
   "metadata": {},
   "outputs": [],
   "source": [
    "# 学習モデルの名前変更（新たに学習させた場合のみ実行してください。）\n",
    "#学習モデルの名前はlatest_net_G.pthとする。Aのデータ -> Bのデータに変換するモデルは＊＊＊_G_A.pthで，Bのデータ -> Aのデータに変換するのモデルは＊＊＊_G_B.pth\n",
    "!cp checkpoints/nordic2LineDrawing_cyclegan/latest_net_G_B.pth checkpoints/nordic2LineDrawing_cyclegan/latest_net_G.pth"
   ]
  },
  {
   "cell_type": "code",
   "execution_count": 9,
   "metadata": {},
   "outputs": [
    {
     "name": "stdout",
     "output_type": "stream",
     "text": [
      "Warning: wandb package cannot be found. The option \"--use_wandb\" will result in error.\n",
      "Warning: wandb package cannot be found. The option \"--use_wandb\" will result in error.\n",
      "----------------- Options ---------------\n",
      "             aspect_ratio: 1.0                           \n",
      "               batch_size: 1                             \n",
      "          checkpoints_dir: ./checkpoints                 \n",
      "                crop_size: 256                           \n",
      "                 dataroot: datasets/japanese2GrayScale/testB\t[default: None]\n",
      "             dataset_mode: single                        \n",
      "                direction: AtoB                          \n",
      "          display_winsize: 256                           \n",
      "                    epoch: latest                        \n",
      "                     eval: False                         \n",
      "                  gpu_ids: 0                             \n",
      "                init_gain: 0.02                          \n",
      "                init_type: normal                        \n",
      "                 input_nc: 3                             \n",
      "                  isTrain: False                         \t[default: None]\n",
      "                load_iter: 0                             \t[default: 0]\n",
      "                load_size: 256                           \n",
      "         max_dataset_size: inf                           \n",
      "                    model: test                          \n",
      "             model_suffix:                               \n",
      "               n_layers_D: 3                             \n",
      "                     name: japanese2GrayScale_cyclegan   \t[default: experiment_name]\n",
      "                      ndf: 64                            \n",
      "                     netD: basic                         \n",
      "                     netG: resnet_9blocks                \n",
      "                      ngf: 64                            \n",
      "               no_dropout: True                          \t[default: False]\n",
      "                  no_flip: False                         \n",
      "                     norm: instance                      \n",
      "                 num_test: 50                            \n",
      "              num_threads: 4                             \n",
      "                output_nc: 3                             \n",
      "                    phase: test                          \n",
      "               preprocess: none                          \t[default: resize_and_crop]\n",
      "              results_dir: ./results                     \t[default: ./results/]\n",
      "           serial_batches: False                         \n",
      "                   suffix:                               \n",
      "                use_wandb: False                         \n",
      "                  verbose: False                         \n",
      "----------------- End -------------------\n",
      "dataset [SingleDataset] was created\n",
      "initialize network with normal\n",
      "model [TestModel] was created\n",
      "loading the model from ./checkpoints/japanese2GrayScale_cyclegan/latest_net_G.pth\n",
      "---------- Networks initialized -------------\n",
      "[Network G] Total number of parameters : 11.378 M\n",
      "-----------------------------------------------\n",
      "creating web directory ./results/japanese2GrayScale_cyclegan/test_latest\n",
      "processing (0000)-th image... ['datasets/japanese2GrayScale/testB/test1.png']\n",
      "processing (0005)-th image... ['datasets/japanese2GrayScale/testB/test14.png']\n",
      "processing (0010)-th image... ['datasets/japanese2GrayScale/testB/test19.png']\n",
      "processing (0015)-th image... ['datasets/japanese2GrayScale/testB/test23.png']\n",
      "processing (0020)-th image... ['datasets/japanese2GrayScale/testB/test28.png']\n",
      "processing (0025)-th image... ['datasets/japanese2GrayScale/testB/test5.png']\n"
     ]
    }
   ],
   "source": [
    "#テスト\n",
    "!python test.py --dataroot datasets/nordic2LineDrawing/testB --name nordic2LineDrawing_cyclegan --model test --no_dropout --preprocess none --results_dir ./results"
   ]
  },
  {
   "cell_type": "markdown",
   "metadata": {},
   "source": [
    "●テストに関して\n",
    "dataroot：テスト画像が含まれるフォルダを指定(nordic2LineDrawingの部分を適宜変更)\n",
    "name：変換モデル名(/checkpointsの中にある変換モデルのディレクトリ名)。\n",
    "変換モデルの名前はlatest_net_G.pthとする必要があります。そのため以下の部分でlatest_net_G_B.pth→latest_net_G.pthに変更を行っています。\n",
    "（!cp checkpoints/nordic2LineDrawing_cyclegan/latest_net_G_B.pth checkpoints/nordic2LineDrawing_cyclegan/latest_net_G.pth）\n",
    "\n",
    "Aのデータ -> Bのデータに変換するモデルは＊＊＊_G_A.pthで、Bのデータ -> Aのデータに変換するのモデルは＊＊＊_G_B.pthです。\n",
    "※「Aのデータ」はカラーのインテリア画像、「Bのデータ」はグレースケール画像（線画画像）です。\n",
    "results_dir：変換後の画像を格納するディレクトリ名(./results_dirの引数/nameの引数/に格納される)\n",
    "preprocess：前処理の設定です。デフォルトでは、256x256の正方形に変換されます。また、いくつかのフラグがありますが、noneにすると、変換画像のサイズとアスペクト比を保持されます。\n",
    "model：変換を実行する場合はtestと記述します。\n",
    "no_dropout：学習時でno_dropoutとなっています。過学習を防ぐドロップアウトを使用しないフラグ。テスト実行時も、モデル学習の設定に合わせる必要があります。\n",
    "gpu_ids -1：CPUを使いたい場合は追記してください。GPUの場合は不要です。"
   ]
  }
 ],
 "metadata": {
  "interpreter": {
   "hash": "025936ff07cc3fc79c2ffc1dc0ad14578c668b3af2d4edb097635735518b69f5"
  },
  "kernelspec": {
   "display_name": "Python 3.10.4 ('CycleGAN-Pytorch')",
   "language": "python",
   "name": "python3"
  },
  "language_info": {
   "codemirror_mode": {
    "name": "ipython",
    "version": 3
   },
   "file_extension": ".py",
   "mimetype": "text/x-python",
   "name": "python",
   "nbconvert_exporter": "python",
   "pygments_lexer": "ipython3",
   "version": "3.10.4"
  },
  "orig_nbformat": 4
 },
 "nbformat": 4,
 "nbformat_minor": 2
}
